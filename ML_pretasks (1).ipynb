{
 "cells": [
  {
   "cell_type": "markdown",
   "id": "efd6a96c",
   "metadata": {},
   "source": [
    "**Q-1**\n",
    "\n",
    "Multiplying the matrices involves multiplication of each of the row of first matrix A(n.k) with each of the column of the second matrix B(k,m).\n",
    "\n",
    "1) All of the k elements of the first row of the matrix A(n,k) will be multiplied with all the elements in the first column of matrix B(k,m). So, there will be k multiplications. Now, considering m columns in the matrix B(k,m) and n rows in matrix A(n,k), the total multiplications will be \"m*n*k\"         \n",
    "Answer:- m*n*k\n",
    "\n",
    "2) With multiplying a single row of matrix A(n,k) with a single column of matrix B(k,m) involves (k-1) additions. Considering m columns in the matrix B(k,m) and n rows in matrix A(n,k), the total additions will be \"m*n*(k-1)\"        \n",
    "Answer= m*n*(k-1)"
   ]
  },
  {
   "cell_type": "markdown",
   "id": "81037156",
   "metadata": {},
   "source": [
    "**Q-2**"
   ]
  },
  {
   "cell_type": "code",
   "execution_count": 19,
   "id": "5bbdeb70",
   "metadata": {},
   "outputs": [
    {
     "name": "stdout",
     "output_type": "stream",
     "text": [
      "Time taken using Lists:  0.009460687637329102\n",
      "Time taken using Numpy:  0.0010647773742675781\n",
      "\n",
      "Numpy is Faster than the Manual Code\n"
     ]
    }
   ],
   "source": [
    "import time\n",
    "import numpy as np\n",
    "A= [[1 for i in range(50)] for j in range(30)]\n",
    "B= [[3 for i in range(30)] for j in range(50)]\n",
    "start= time.time()\n",
    "final_lis=[]\n",
    "for i in range(len(A)):\n",
    "    lis=[]\n",
    "    for j in range(len(B[0])):\n",
    "        res=0\n",
    "        for k in range(len(B)):\n",
    "            res+= A[i][k]*B[k][j]\n",
    "        lis.append(res)\n",
    "    final_lis.append(lis)\n",
    "end= time.time()\n",
    "time_taken= end-start\n",
    "print(\"Time taken using Lists: \", time_taken)\n",
    "\n",
    "start= time.time()\n",
    "res= np.matmul(A,B)\n",
    "end= time.time()\n",
    "time_taken1= end-start\n",
    "print(\"Time taken using Numpy: \", time_taken1)\n",
    "print()\n",
    "if time_taken1<time_taken:\n",
    "    print(\"Numpy is Faster than the Manual Code\")\n",
    "else:\n",
    "    print(\"Manual Code is Faster than Numpy\")"
   ]
  },
  {
   "cell_type": "markdown",
   "id": "ffc25c26",
   "metadata": {},
   "source": [
    "**Q-3**\n",
    "\n",
    "Using this given method, time complexity of finding the median of the array is len(array)*(len(array)//2)\n",
    "\n",
    "In another approach, after making deepcopy of array, we sort the new array and find the middle element"
   ]
  },
  {
   "cell_type": "code",
   "execution_count": 41,
   "id": "87626fa0",
   "metadata": {},
   "outputs": [
    {
     "name": "stdout",
     "output_type": "stream",
     "text": [
      "Median is: 51\n",
      "Time taken:  0.029714345932006836\n",
      "\n",
      "Median is: 51.0\n",
      "Time taken:  0.0060999393463134766\n",
      "\n",
      "Median is: 51.0\n",
      "Time taken:  0.0\n",
      "\n",
      "Numpy is faster than the other two methods\n"
     ]
    }
   ],
   "source": [
    "import random\n",
    "import time\n",
    "from copy import deepcopy\n",
    "arr= []\n",
    "for i in range(500):\n",
    "    num= random.randint(0, 100)\n",
    "    arr.append(num)\n",
    "\n",
    "#given method\n",
    "start= time.time()\n",
    "searched=[]\n",
    "for j in range(len(arr)//2):\n",
    "    s= -10000\n",
    "    ind=-1\n",
    "    for i in range(len(arr)):\n",
    "        if arr[i]>s and i not in searched:\n",
    "            s=arr[i]\n",
    "            ind=i\n",
    "    searched.append(ind)\n",
    "end= time.time()\n",
    "time_taken= end-start\n",
    "print(\"Median is:\", s)\n",
    "print(\"Time taken: \", time_taken)\n",
    "\n",
    "#modified algorithm\n",
    "start1= time.time()\n",
    "arr1= deepcopy(arr)\n",
    "arr1.sort()\n",
    "if len(arr1)%2==0: \n",
    "    m1= arr1[len(arr1)//2] \n",
    "    m2= arr1[len(arr1)//2 - 1] \n",
    "    m= (m1+m2)/2\n",
    "else: \n",
    "    m= arr1[len(arr1)//2] \n",
    "end1= time.time()\n",
    "time_taken1= end1-start1\n",
    "print()\n",
    "print(\"Median is:\", m)\n",
    "print(\"Time taken: \", time_taken1)\n",
    "\n",
    "#using Numpy\n",
    "start2= time.time()\n",
    "sn= np.median(arr)\n",
    "end2= time.time()\n",
    "time_taken2= end2-start2\n",
    "print()\n",
    "print(\"Median is:\", sn)\n",
    "print(\"Time taken: \", time_taken2)\n",
    "print()\n",
    "print(\"Numpy is faster than the other two methods\")"
   ]
  },
  {
   "cell_type": "markdown",
   "id": "a0300e9a",
   "metadata": {},
   "source": [
    "**Q-4**\n",
    "\n",
    "Gradient of the given function with respect to x is 2x*y + y^3*cos(x)                   \n",
    "\n",
    "Gradient of the given function with respect to y is x^2 + 3*(y^2)*sin(x)"
   ]
  },
  {
   "cell_type": "markdown",
   "id": "830a20de",
   "metadata": {},
   "source": [
    "**Q-5**"
   ]
  },
  {
   "cell_type": "code",
   "execution_count": 48,
   "id": "1e664914",
   "metadata": {},
   "outputs": [
    {
     "name": "stdout",
     "output_type": "stream",
     "text": [
      "Using JAX WRT x: 2.5403023\n",
      "Manually solved WRT x: 2.5403023058681398\n",
      "\n",
      "Using JAX WRT y: 14.911569\n",
      "Manually solved WRT y 14.91156912190818\n"
     ]
    }
   ],
   "source": [
    "import jax\n",
    "import jax.numpy as jnp\n",
    "import math\n",
    "\n",
    "y=1\n",
    "f = lambda x: (x**2)*y + (y**3)*jnp.sin(x)\n",
    "dfdx = jax.grad(f)\n",
    "print(\"Using JAX WRT x:\", dfdx(1.))\n",
    "\n",
    "x=y=1\n",
    "dfdx= 2*x*y + (y**3)*math.cos(x)\n",
    "print(\"Manually solved WRT x:\", dfdx)\n",
    "print()\n",
    "x=2\n",
    "f = lambda y: (x**2)*y + (y**3)*jnp.sin(x)\n",
    "dfdy = jax.grad(f)\n",
    "print(\"Using JAX WRT y:\", dfdy(2.))\n",
    "\n",
    "x=y=2\n",
    "dfdy= x**2 + 3*(y**2)*math.sin(x)\n",
    "print(\"Manually solved WRT y\", dfdy)"
   ]
  },
  {
   "cell_type": "markdown",
   "id": "bf3b70b6",
   "metadata": {},
   "source": [
    "**Q-6**"
   ]
  },
  {
   "cell_type": "code",
   "execution_count": 21,
   "id": "9371a518",
   "metadata": {},
   "outputs": [
    {
     "name": "stdout",
     "output_type": "stream",
     "text": [
      "df/dx: 2*x*y + y**3*cos(x)\n",
      "df/dy: x**2 + 3*y**2*sin(x)\n"
     ]
    }
   ],
   "source": [
    "import sympy as sp\n",
    "\n",
    "x, y= sp.symbols('x y')\n",
    "f = (x**2)*y + (y**3)*sp.sin(x)\n",
    "\n",
    "grad_fx= sp.diff(f, x)\n",
    "print(\"df/dx:\", grad_fx)\n",
    "\n",
    "grad_fy= sp.diff(f, y)\n",
    "print(\"df/dy:\", grad_fy)"
   ]
  },
  {
   "cell_type": "markdown",
   "id": "fce651b0",
   "metadata": {},
   "source": [
    "**Q-7**"
   ]
  },
  {
   "cell_type": "code",
   "execution_count": 63,
   "id": "d2b5d7f7",
   "metadata": {},
   "outputs": [],
   "source": [
    "Nested_dict= {'2022': {'Branch_1': {'Roll Number':'1', 'Name': 'N', 'Marks': {'Maths':'100', 'English':'70', 'Science':'95'}},\n",
    "                       'Branch_2': {'Roll Number':'2', 'Name': 'M', 'Marks': {'Maths':'90', 'English':'75', 'Science':'85'}}}, \n",
    "              \n",
    "              '2023': {'Branch_1': {'Roll Number':'1', 'Name': 'O', 'Marks': {'Maths':'85', 'English':'80', 'Science':'79'}},\n",
    "                        'Branch_2': {'Roll Number':'2', 'Name': 'P', 'Marks': {'Maths':'87', 'English':'72', 'Science':'94'}}}, \n",
    "              \n",
    "              '2024': {'Branch_1': {'Roll Number':'1', 'Name': 'Q', 'Marks': {'Maths':'83', 'English':'85', 'Science':'85'}},\n",
    "                        'Branch_2': {'Roll Number':'2', 'Name': 'R', 'Marks': {'Maths':'93', 'English':'85', 'Science':'96'}}}, \n",
    "              \n",
    "              '2025': {'Branch_1': {'Roll Number':'1', 'Name': 'S', 'Marks': {'Maths':'91', 'English':'75', 'Science':'83'}}, \n",
    "                        'Branch_2': {'Roll Number':'2', 'Name': 'T', 'Marks': {'Maths':'99', 'English':'79', 'Science':'87'}}}}\n"
   ]
  },
  {
   "cell_type": "markdown",
   "id": "8877ab34",
   "metadata": {},
   "source": [
    "**Q-8**"
   ]
  },
  {
   "cell_type": "code",
   "execution_count": 2,
   "id": "db27fddc",
   "metadata": {},
   "outputs": [],
   "source": [
    "class Student:\n",
    "    def __init__(self, roll_number, name, marks):\n",
    "        self.roll_number = roll_number\n",
    "        self.name = name\n",
    "        self.marks = marks\n",
    "\n",
    "class Branch:\n",
    "    def __init__(self, student):\n",
    "        self.student = [student]\n",
    "\n",
    "class Year:\n",
    "    def __init__(self, branches):\n",
    "        self.branches = branches\n",
    "\n",
    "student1 = Student('1', 'N', ['100', '70', '95'])\n",
    "Branch_1= Branch(student1)\n",
    "student2= Student('2', 'M', ['90', '75', '85'])\n",
    "Branch_2= Branch(student2)\n",
    "year2022= Year([Branch_1, Branch_2])\n",
    "\n",
    "student1 = Student('1', 'O', ['85', '80', '79'])\n",
    "Branch_1= Branch(student1)\n",
    "student2= Student('2', 'P', ['87', '72', '94'])\n",
    "Branch_2= Branch(student2)\n",
    "year2023= Year([Branch_1, Branch_2])\n",
    "\n",
    "student1 = Student('1', 'Q', ['83','85', '85'])\n",
    "Branch_1= Branch(student1)\n",
    "student2= Student('2', 'R', ['93', '85', '96'])\n",
    "Branch_2= Branch(student2)\n",
    "year2024= Year([Branch_1, Branch_2])\n",
    "\n",
    "student1= Student('1', 'S', ['91', '75', '83'])\n",
    "Branch_1= Branch(student1)\n",
    "student2 = Student('2', 'T', ['99', '79', '87'])\n",
    "Branch_2= Branch(student2)\n",
    "year2025= Year([Branch_1, Branch_2])\n",
    "\n",
    "overall_database= [year2022, year2023, year2024, year2025]\n",
    "\n",
    "# We can access data like:- print(overall_database[3].branches[1].student[0].roll_number)"
   ]
  },
  {
   "cell_type": "markdown",
   "id": "9848e7e6",
   "metadata": {},
   "source": [
    "**Q-9**"
   ]
  },
  {
   "cell_type": "code",
   "execution_count": 1,
   "id": "4d1e9e7a",
   "metadata": {},
   "outputs": [
    {
     "data": {
      "image/png": "[encoded data removed]",
      "text/plain": [
       "<Figure size 640x480 with 7 Axes>"
      ]
     },
     "metadata": {},
     "output_type": "display_data"
    }
   ],
   "source": [
    "import matplotlib.pyplot as plt\n",
    "import numpy as np\n",
    "\n",
    "x= np.arange(0.5, 100.5,0.5)\n",
    "y= x\n",
    "plt.subplot(3,3,1)\n",
    "plt.plot(x,y)\n",
    "\n",
    "y= x**2\n",
    "plt.subplot(3,3,2)\n",
    "plt.plot(x,y)\n",
    "\n",
    "y= (x**3)/100\n",
    "plt.subplot(3,3,3)\n",
    "plt.plot(x,y)\n",
    "\n",
    "y= np.sin(x)\n",
    "plt.subplot(3,3,4)\n",
    "plt.plot(x,y)\n",
    "\n",
    "y= np.sin(x)/x\n",
    "plt.subplot(3,3,5)\n",
    "plt.plot(x,y)\n",
    "\n",
    "y= np.log(x)\n",
    "plt.subplot(3,3,6)\n",
    "plt.plot(x,y)\n",
    "\n",
    "y= np.exp(x)\n",
    "plt.subplot(3,3,7)\n",
    "plt.plot(x,y)\n",
    "plt.tight_layout()\n",
    "plt.show()"
   ]
  },
  {
   "cell_type": "markdown",
   "id": "ee48550e",
   "metadata": {},
   "source": [
    "**Q-10**"
   ]
  },
  {
   "cell_type": "code",
   "execution_count": 10,
   "id": "966d1ac7",
   "metadata": {},
   "outputs": [
    {
     "name": "stdout",
     "output_type": "stream",
     "text": [
      "DataFrame: \n",
      "           a         b         c         d         e\n",
      "0   1.301295  1.482950  1.032133  1.983258  1.453837\n",
      "1   1.213061  1.805955  1.150953  1.078292  1.422691\n",
      "2   1.140574  1.241008  1.405669  1.242041  1.053451\n",
      "3   1.389446  1.774569  1.360838  1.845080  1.131273\n",
      "4   1.088750  1.920763  1.198350  1.808291  1.330099\n",
      "5   1.755218  1.148586  1.691425  1.845379  1.278224\n",
      "6   1.559323  1.009821  1.412615  1.808379  1.471554\n",
      "7   1.839642  1.041032  1.137742  1.343596  1.924686\n",
      "8   1.051396  1.846396  1.920930  1.624623  1.043672\n",
      "9   1.545285  1.336097  1.097163  1.965536  1.287475\n",
      "10  1.213292  1.699077  1.654044  1.329733  1.206154\n",
      "11  1.250620  1.937386  1.792927  1.204395  1.466172\n",
      "12  1.839518  1.863544  1.436913  1.908209  1.397235\n",
      "13  1.873399  1.040444  1.618908  1.626557  1.101237\n",
      "14  1.734569  1.933388  1.993484  1.064179  1.191349\n",
      "15  1.037111  1.445214  1.516424  1.082647  1.164899\n",
      "16  1.472751  1.032576  1.772554  1.318796  1.131792\n",
      "17  1.790098  1.973593  1.765798  1.998775  1.090998\n",
      "18  1.267031  1.592378  1.421482  1.600636  1.325769\n",
      "19  1.067474  1.718502  1.607574  1.116353  1.066185\n",
      "\n",
      "Maximum Standard Deviation is of column: b , and with Standard Devation of 0.3526811304686629\n",
      "\n",
      "Minimum Mean is of row: 2 , andwith Mean of 1.216548475930966\n"
     ]
    }
   ],
   "source": [
    "import pandas as pd\n",
    "mat= np.random.uniform(1, 2,size=(20,5))\n",
    "p,q,r,s,t=[],[],[],[],[]\n",
    "for i in range(20):\n",
    "    p1= mat[i][0]\n",
    "    p.append(p1)\n",
    "    \n",
    "for i in range(20):\n",
    "    q1= mat[i][1]\n",
    "    q.append(q1)\n",
    "    \n",
    "for i in range(20):\n",
    "    r1= mat[i][2]\n",
    "    r.append(r1)\n",
    "    \n",
    "for i in range(20):\n",
    "    s1= mat[i][3]\n",
    "    s.append(s1)\n",
    "    \n",
    "for i in range(20):\n",
    "    t1= mat[i][4]\n",
    "    t.append(t1)\n",
    "\n",
    "A= {\"a\":p, \"b\":q, \"c\":r, \"d\":s, \"e\":t}\n",
    "df= pd.DataFrame(A)\n",
    "print(\"DataFrame: \")\n",
    "print(df)\n",
    "\n",
    "v, w, x, y, z = df[\"a\"].std(), df[\"b\"].std(), df[\"c\"].std(), df[\"d\"].std(), df[\"e\"].std()\n",
    "\n",
    "max_std = df.std().idxmax()\n",
    "print()\n",
    "print(\"Maximum Standard Deviation is of column:\", max_std, \", and with Standard Devation of\", df[max_std].std())\n",
    "\n",
    "min_mean = df.mean(axis=1).idxmin()\n",
    "print()\n",
    "print(\"Minimum Mean is of row:\", min_mean, \", andwith Mean of\", df.mean(axis=1).min())"
   ]
  },
  {
   "cell_type": "markdown",
   "id": "5b383178",
   "metadata": {},
   "source": [
    "**Q-11**"
   ]
  },
  {
   "cell_type": "code",
   "execution_count": 11,
   "id": "d5717f17",
   "metadata": {},
   "outputs": [
    {
     "name": "stdout",
     "output_type": "stream",
     "text": [
      "           a         b         c         d         e         f    g\n",
      "0   1.301295  1.482950  1.032133  1.983258  1.453837  7.253474  LT8\n",
      "1   1.213061  1.805955  1.150953  1.078292  1.422691  6.670951  LT8\n",
      "2   1.140574  1.241008  1.405669  1.242041  1.053451  6.082742  LT8\n",
      "3   1.389446  1.774569  1.360838  1.845080  1.131273  7.501205  LT8\n",
      "4   1.088750  1.920763  1.198350  1.808291  1.330099  7.346254  LT8\n",
      "5   1.755218  1.148586  1.691425  1.845379  1.278224  7.718832  LT8\n",
      "6   1.559323  1.009821  1.412615  1.808379  1.471554  7.261693  LT8\n",
      "7   1.839642  1.041032  1.137742  1.343596  1.924686  7.286697  LT8\n",
      "8   1.051396  1.846396  1.920930  1.624623  1.043672  7.487018  LT8\n",
      "9   1.545285  1.336097  1.097163  1.965536  1.287475  7.231556  LT8\n",
      "10  1.213292  1.699077  1.654044  1.329733  1.206154  7.102300  LT8\n",
      "11  1.250620  1.937386  1.792927  1.204395  1.466172  7.651500  LT8\n",
      "12  1.839518  1.863544  1.436913  1.908209  1.397235  8.445418  GT8\n",
      "13  1.873399  1.040444  1.618908  1.626557  1.101237  7.260546  LT8\n",
      "14  1.734569  1.933388  1.993484  1.064179  1.191349  7.916968  LT8\n",
      "15  1.037111  1.445214  1.516424  1.082647  1.164899  6.246295  LT8\n",
      "16  1.472751  1.032576  1.772554  1.318796  1.131792  6.728469  LT8\n",
      "17  1.790098  1.973593  1.765798  1.998775  1.090998  8.619262  GT8\n",
      "18  1.267031  1.592378  1.421482  1.600636  1.325769  7.207295  LT8\n",
      "19  1.067474  1.718502  1.607574  1.116353  1.066185  6.576089  LT8\n"
     ]
    }
   ],
   "source": [
    "de= df.sum(axis = 1)\n",
    "df.insert(5, \"f\", de, True)\n",
    "ge = np.where(df['f'] > 8, 'GT8', 'LT8')\n",
    "df.insert(6, \"g\", ge, True)\n",
    "#df = df.drop('f', axis=1)\n",
    "print(df)"
   ]
  },
  {
   "cell_type": "code",
   "execution_count": 12,
   "id": "fa0b8677",
   "metadata": {},
   "outputs": [
    {
     "name": "stdout",
     "output_type": "stream",
     "text": [
      "Number of LT8 in column g: 18\n",
      "Standard Devaition with LT8 0.49679655989992083\n",
      "Standard Devaition with GT8 0.12292641363552384\n"
     ]
    }
   ],
   "source": [
    "print(\"Number of LT8 in column g:\", len(df[df['g']=='LT8']))\n",
    "std_lt8 = df.loc[df['g']=='LT8', 'f'].std()\n",
    "std_gt8 = df.loc[df['g']=='GT8', 'f'].std()\n",
    "print(\"Standard Devaition with LT8\", std_lt8)\n",
    "print(\"Standard Devaition with GT8\", std_gt8)"
   ]
  },
  {
   "cell_type": "markdown",
   "id": "f3efd1af",
   "metadata": {},
   "source": [
    "**Q-12**\n",
    "\n",
    "When numpy has to deal with arithmetic operations of incompatible dimensions of the matrices, this is where Broadcasting happens. To have compatibility in their shapes, the array with the smaller size gets broadcasted to the larger array. \n",
    "                                                                                      \n",
    "But there are some conditions associated with the Broadcasting:- \"Both of them should have same size or one of them must have 1 in its dimension"
   ]
  },
  {
   "cell_type": "code",
   "execution_count": 61,
   "id": "2c2426f6",
   "metadata": {},
   "outputs": [
    {
     "name": "stdout",
     "output_type": "stream",
     "text": [
      "Shape of a: (3, 5)\n",
      "Shape of b: (3, 1)\n",
      "\n",
      "[[13 14  9 15 21]\n",
      " [17 17  6 10  8]\n",
      " [ 2 12 16 14 10]]\n",
      "\n",
      "Shape of c: (3, 5)\n"
     ]
    }
   ],
   "source": [
    "import numpy as np\n",
    "a= np.random.randint(15, size=(3,5))\n",
    "print(\"Shape of a:\", a.shape)\n",
    "b= np.random.randint(10, size=(3,1))\n",
    "print(\"Shape of b:\", b.shape)\n",
    "c= a+b                         # broadcasted b gets added to a\n",
    "print()\n",
    "print(c)\n",
    "print()\n",
    "print(\"Shape of c:\", c.shape)"
   ]
  },
  {
   "cell_type": "markdown",
   "id": "76eccdfb",
   "metadata": {},
   "source": [
    "**Q-13**"
   ]
  },
  {
   "cell_type": "code",
   "execution_count": 7,
   "id": "44523cc8",
   "metadata": {},
   "outputs": [
    {
     "name": "stdout",
     "output_type": "stream",
     "text": [
      "Array: [11 44 18  3 52 51 23 20 54 32]\n",
      "Index with the minimum element in the array with manual code: 3\n",
      "Index with minimum element in the array using numpy: 3\n"
     ]
    }
   ],
   "source": [
    "a= np.random.randint(0, 100, size=[10])\n",
    "a1= a.flatten()    #  if the given array is multi-dimensional\n",
    "print(\"Array:\", a1)\n",
    "\n",
    "mini= 10000\n",
    "ind= -1\n",
    "for j,i in enumerate(a1):\n",
    "    if mini> i:\n",
    "        mini= i\n",
    "        ind= j\n",
    "print(\"Index with the minimum element in the array with manual code:\", ind)\n",
    "\n",
    "s= np.argmin(a1)\n",
    "print(\"Index with minimum element in the array using numpy:\", s)"
   ]
  }
 ],
 "metadata": {
  "kernelspec": {
   "display_name": "Python 3 (ipykernel)",
   "language": "python",
   "name": "python3"
  },
  "language_info": {
   "codemirror_mode": {
    "name": "ipython",
    "version": 3
   },
   "file_extension": ".py",
   "mimetype": "text/x-python",
   "name": "python",
   "nbconvert_exporter": "python",
   "pygments_lexer": "ipython3",
   "version": "3.11.5"
  }
 },
 "nbformat": 4,
 "nbformat_minor": 5
}
